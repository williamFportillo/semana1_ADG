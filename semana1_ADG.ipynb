{
  "nbformat": 4,
  "nbformat_minor": 0,
  "metadata": {
    "colab": {
      "name": "semana1_ADG",
      "provenance": []
    },
    "kernelspec": {
      "name": "python3",
      "display_name": "Python 3"
    }
  },
  "cells": [
    {
      "cell_type": "markdown",
      "metadata": {
        "id": "Jysc_G-t5bbv"
      },
      "source": [
        "BUBBLE SORT\n"
      ]
    },
    {
      "cell_type": "code",
      "metadata": {
        "id": "jpPWD_ik4_t_"
      },
      "source": [
        "from random import seed\n",
        "from random import randint\n",
        "import numpy as np\n",
        "\n",
        "def bubble_sort(cant):\n",
        "    listaDesordenada = []\n",
        "    seed(1)\n",
        "    for _ in range(cant):\n",
        "      listaDesordenada = np.append(listaDesordenada, randint(0,50))\n",
        "    veces = 0\n",
        "    for i in range(len(listaDesordenada)):\n",
        "        for j in range(len(listaDesordenada) - 1):\n",
        "            veces+=1\n",
        "            if listaDesordenada[j] > listaDesordenada[j+1]:\n",
        "                listaDesordenada[j], listaDesordenada[j+1] = listaDesordenada[j+1], listaDesordenada[j]\n",
        "    print(listaDesordenada)\n",
        "    return veces\n",
        "\n",
        "ns=[10, 50, 100, 1000, 5000, 10000, 20000]\n",
        "for n in ns:\n",
        "  veces = bubble_sort(n);\n",
        "  print(n , veces"
      ],
      "execution_count": null,
      "outputs": []
    },
    {
      "cell_type": "markdown",
      "metadata": {
        "id": "pXL2RrQm5xF2"
      },
      "source": [
        "Insertion Sort"
      ]
    },
    {
      "cell_type": "code",
      "metadata": {
        "id": "QZiCLYHX503B"
      },
      "source": [
        "from random import seed\n",
        "from random import randint\n",
        "import numpy as np\n",
        "\n",
        "def bubble_sort(cant):\n",
        "    listaDesordenada = []\n",
        "    seed(1)\n",
        "    for _ in range(cant):\n",
        "      listaDesordenada = np.append(listaDesordenada, randint(0,50))\n",
        "    veces = 0\n",
        "    for i in range(len(listaDesordenada)):\n",
        "        for j in range(i,0,-1):\n",
        "            veces+=1\n",
        "            if listaDesordenada[j] < listaDesordenada[j-1]:\n",
        "                listaDesordenada[j], listaDesordenada[j-1] = listaDesordenada[j-1], listaDesordenada[j]\n",
        "            else:\n",
        "              break\n",
        "    #print(listaDesordenada)\n",
        "    return veces\n",
        "\n",
        "ns=[10, 50, 100, 1000, 5000, 10000, 20000]\n",
        "for n in ns:\n",
        "  veces = bubble_sort(n);\n",
        "  print(n , veces)"
      ],
      "execution_count": null,
      "outputs": []
    },
    {
      "cell_type": "markdown",
      "metadata": {
        "id": "vR8WiScT55PR"
      },
      "source": [
        "Fibonacci Iterativo"
      ]
    },
    {
      "cell_type": "code",
      "metadata": {
        "id": "44m-DIXj57_B"
      },
      "source": [
        "def fibonacci(cant):\n",
        "  first = 1\n",
        "  second = 1\n",
        "  cont = 0\n",
        "  temp = 0\n",
        "\n",
        "  while(cont < cant):\n",
        "    print(first)\n",
        "    temp = first + second\n",
        "    first = second\n",
        "    second = temp\n",
        "    cont = cont + 1\n",
        "\n",
        "fibonacci(10);"
      ],
      "execution_count": null,
      "outputs": []
    },
    {
      "cell_type": "markdown",
      "metadata": {
        "id": "WH9z5CCp6C4M"
      },
      "source": [
        "Fibonacci Recursivo"
      ]
    },
    {
      "cell_type": "code",
      "metadata": {
        "id": "94lFzq6k6G7B"
      },
      "source": [
        "def FibonacciRecursivo(cant,first,second):\n",
        "  if cant > 0:\n",
        "    print(first)\n",
        "    FibonacciRecursivo(cant - 1,second,first+second)\n",
        "\n",
        "FibonacciRecursivo(20,1,1)"
      ],
      "execution_count": null,
      "outputs": []
    }
  ]
}